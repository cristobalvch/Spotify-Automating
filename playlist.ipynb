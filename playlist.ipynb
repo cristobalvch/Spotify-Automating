{
 "metadata": {
  "language_info": {
   "codemirror_mode": {
    "name": "ipython",
    "version": 3
   },
   "file_extension": ".py",
   "mimetype": "text/x-python",
   "name": "python",
   "nbconvert_exporter": "python",
   "pygments_lexer": "ipython3",
   "version": "3.8.5-final"
  },
  "orig_nbformat": 2,
  "kernelspec": {
   "name": "python_defaultSpec_1599013410756",
   "display_name": "Python 3.8.5 64-bit"
  }
 },
 "nbformat": 4,
 "nbformat_minor": 2,
 "cells": [
  {
   "cell_type": "code",
   "execution_count": 1,
   "metadata": {},
   "outputs": [],
   "source": [
    "import spotipy\n",
    "from spotipy import SpotifyClientCredentials, util\n",
    "import pandas as pd\n",
    "import numpy as np "
   ]
  },
  {
   "cell_type": "code",
   "execution_count": 2,
   "metadata": {
    "tags": []
   },
   "outputs": [],
   "source": [
    "client_id='your_client_id'\n",
    "client_secret='your_client_secret'\n",
    "redirect_uri='your_redirect_url'\n",
    "\n",
    "username = 'your_user_spotify_number'\n",
    "\n",
    "scope_playlist = 'playlist-modify-public'\n",
    "scope_user = 'user-library-modify'\n",
    "scope_playing = 'user-read-currently-playing'\n",
    "\n",
    "\n",
    "#Credentials to access the library music \n",
    "token_user= util.prompt_for_user_token(username,scope_user,client_id,client_secret,redirect_uri) \n",
    "sp_user = spotipy.Spotify(auth=token_user)\n",
    "\n",
    "#Credentiasl to access the Playlists Music\n",
    "token_playlist= util.prompt_for_user_token(username,scope_playlist,client_id,client_secret,redirect_uri) \n",
    "sp_playlist = spotipy.Spotify(auth=token_playlist)\n"
   ]
  },
  {
   "cell_type": "code",
   "execution_count": 3,
   "metadata": {},
   "outputs": [],
   "source": [
    "data = pd.read_csv(\"../music/music-file.csv\",names=['song','artist','album'])"
   ]
  },
  {
   "cell_type": "code",
   "execution_count": 5,
   "metadata": {
    "tags": []
   },
   "outputs": [
    {
     "output_type": "stream",
     "name": "stdout",
     "text": "ID Not Found: Please review the song title with index 11\nID Not Found: Please review the song title with index 43\n"
    }
   ],
   "source": [
    "ids = []\n",
    "\n",
    "for i in range(len(data)):\n",
    "    query = data['artist'].loc[i] +\" \"+ data['song'].loc[i]\n",
    "    songs = sp_user.search(q=query,type='track',limit=2)\n",
    "    try:\n",
    "        ids.append(songs['tracks']['items'][0]['id'])\n",
    "    except IndexError:\n",
    "        print(f\"ID Not Found: Please review the song title with index {str(i)}\")\n",
    "        ids.append(np.nan)\n",
    "\n",
    "data['id'] = ids"
   ]
  },
  {
   "cell_type": "code",
   "execution_count": 7,
   "metadata": {},
   "outputs": [],
   "source": [
    "data['song'].loc[11] = \"Fireflies And Empty Skies\"\n",
    "data['song'].loc[43] = \"Twentytwofourteen\""
   ]
  },
  {
   "cell_type": "code",
   "execution_count": 8,
   "metadata": {},
   "outputs": [],
   "source": [
    "#Running the code again with the titles modified\n",
    "\n",
    "ids = []\n",
    "\n",
    "for i in range(len(data)):\n",
    "    query = data['artist'].loc[i] +\" \"+ data['song'].loc[i]\n",
    "    songs = sp_user.search(q=query,type='track',limit=2)\n",
    "    try:\n",
    "        ids.append(songs['tracks']['items'][0]['id'])\n",
    "    except IndexError:\n",
    "        print(f\"ID Not Found: Please review the song title with index {str(i)}\")\n",
    "        ids.append(np.nan)\n",
    "\n",
    "data['id'] = ids"
   ]
  },
  {
   "cell_type": "code",
   "execution_count": 11,
   "metadata": {
    "tags": []
   },
   "outputs": [],
   "source": [
    "new_playlist = sp_playlist.user_playlist_create(username,\"Post-Rock\",public=True)"
   ]
  },
  {
   "cell_type": "code",
   "execution_count": 15,
   "metadata": {},
   "outputs": [
    {
     "output_type": "execute_result",
     "data": {
      "text/plain": "{'snapshot_id': 'Myw0OTJiYzY2MzVhMTI0ZmEwYjgxY2Y4YzE2OWYxNTFiYzk4YWRmNWUz'}"
     },
     "metadata": {},
     "execution_count": 15
    }
   ],
   "source": [
    "sp_playlist.user_playlist_add_tracks(username,playlist_id=new_playlist['id'],tracks=data['id'].tolist())"
   ]
  }
 ]
}